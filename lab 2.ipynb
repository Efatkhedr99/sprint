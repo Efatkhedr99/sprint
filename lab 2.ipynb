{
 "cells": [
  {
   "cell_type": "code",
   "execution_count": 4,
   "id": "4c142d93",
   "metadata": {},
   "outputs": [
    {
     "name": "stdout",
     "output_type": "stream",
     "text": [
      "plz ent num1=10\n",
      "plz ent num2=20\n",
      "plz ent op :-\n",
      "sup -10.0\n"
     ]
    }
   ],
   "source": [
    "#read 1st num\n",
    "num1=input('plz ent num1=')\n",
    "#read 2nd num \n",
    "num2=input('plz ent num2=')\n",
    "#read operation \n",
    "op = input('plz ent op :')\n",
    "num1 = float(num1)\n",
    "num2 = float(num2)\n",
    "if op ==  '+':\n",
    "    res=num1+num2\n",
    "    print('sum',res)  \n",
    "    \n",
    "elif  op == '-': \n",
    "    res=num1-num2\n",
    "    print('sup',res)\n",
    "    \n",
    "elif op ==  '*' :       \n",
    "    res=num1*num2\n",
    "    print('mul=',res)\n",
    "    \n",
    "elif op  == '/' :\n",
    "    res=num1/num2\n",
    "    print('div=',res)    "
   ]
  },
  {
   "cell_type": "code",
   "execution_count": null,
   "id": "29601647",
   "metadata": {},
   "outputs": [],
   "source": []
  },
  {
   "cell_type": "code",
   "execution_count": null,
   "id": "c83f7dbd",
   "metadata": {},
   "outputs": [],
   "source": []
  },
  {
   "cell_type": "code",
   "execution_count": null,
   "id": "b845c1c2",
   "metadata": {},
   "outputs": [],
   "source": []
  }
 ],
 "metadata": {
  "kernelspec": {
   "display_name": "Python 3 (ipykernel)",
   "language": "python",
   "name": "python3"
  },
  "language_info": {
   "codemirror_mode": {
    "name": "ipython",
    "version": 3
   },
   "file_extension": ".py",
   "mimetype": "text/x-python",
   "name": "python",
   "nbconvert_exporter": "python",
   "pygments_lexer": "ipython3",
   "version": "3.9.7"
  }
 },
 "nbformat": 4,
 "nbformat_minor": 5
}
