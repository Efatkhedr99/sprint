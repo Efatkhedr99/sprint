{
 "cells": [
  {
   "cell_type": "code",
   "execution_count": 5,
   "id": "8b542a1a",
   "metadata": {},
   "outputs": [
    {
     "name": "stdout",
     "output_type": "stream",
     "text": [
      "plz enter num1 :20\n",
      "plz enter num 2:10\n",
      "sum= 30.0\n",
      "sub= 10.0\n",
      "mul= 200.0\n"
     ]
    }
   ],
   "source": [
    "#rea 1st name\n",
    "num1=input('plz enter num1 :')\n",
    "#read 2nd num \n",
    "num2=input('plz enter num 2:')\n",
    "#convert str to float \n",
    "num1=float(num1)\n",
    "num2=float(num2)\n",
    "#print sum\n",
    "print('sum=',num1+num2)\n",
    "#print sub\n",
    "print('sub=',num1-num2)\n",
    "#print mul\n",
    "print('mul=',num1*num2)"
   ]
  },
  {
   "cell_type": "code",
   "execution_count": 2,
   "id": "762ab421",
   "metadata": {},
   "outputs": [
    {
     "name": "stdout",
     "output_type": "stream",
     "text": [
      "plz ent num1:20\n",
      "plz ent num2:30\n",
      "plz ent num3:40\n",
      "max= 40\n"
     ]
    }
   ],
   "source": [
    "def max_two_numbers(num1,num2):\n",
    "    if num1>num2:\n",
    "        return(num1) \n",
    "    else:\n",
    "        return(num2)\n",
    "    \n",
    "\n",
    "def max_three_numbers(num1,num2,num3):\n",
    "    m = max_two_numbers (num1,num2)\n",
    "    fin = max_two_numbers (m,num3)\n",
    "    return(fin)\n",
    "\n",
    "num1=input('plz ent num1:')\n",
    "num2=input('plz ent num2:')\n",
    "num3=input('plz ent num3:')\n",
    "res= max_three_numbers(num1,num2,num3)\n",
    "print('max=',res)\n"
   ]
  },
  {
   "cell_type": "code",
   "execution_count": 3,
   "id": "d5818e6e",
   "metadata": {},
   "outputs": [
    {
     "name": "stdout",
     "output_type": "stream",
     "text": [
      "[2]\n"
     ]
    }
   ],
   "source": [
    "def uniquelist(nonuniqe):\n",
    "    res=[]\n",
    "    for n  in nonuniqe :\n",
    "        if n not in res :\n",
    "            res.append(n)\n",
    "        return(res)\n",
    "numbers=[2,2,3,3,5,5,6,6,7,7]\n",
    "ali= uniquelist(numbers)\n",
    "print(ali)\n",
    "        "
   ]
  },
  {
   "cell_type": "code",
   "execution_count": null,
   "id": "4cd6d49a",
   "metadata": {},
   "outputs": [],
   "source": []
  },
  {
   "cell_type": "code",
   "execution_count": null,
   "id": "0b08f5a8",
   "metadata": {},
   "outputs": [],
   "source": []
  },
  {
   "cell_type": "code",
   "execution_count": null,
   "id": "73898b13",
   "metadata": {},
   "outputs": [],
   "source": []
  }
 ],
 "metadata": {
  "kernelspec": {
   "display_name": "Python 3 (ipykernel)",
   "language": "python",
   "name": "python3"
  },
  "language_info": {
   "codemirror_mode": {
    "name": "ipython",
    "version": 3
   },
   "file_extension": ".py",
   "mimetype": "text/x-python",
   "name": "python",
   "nbconvert_exporter": "python",
   "pygments_lexer": "ipython3",
   "version": "3.9.7"
  }
 },
 "nbformat": 4,
 "nbformat_minor": 5
}
