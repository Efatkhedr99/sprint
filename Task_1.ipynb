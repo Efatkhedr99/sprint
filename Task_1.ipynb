{
  "cells": [
    {
      "cell_type": "markdown",
      "metadata": {
        "id": "FRpslXqXXs45"
      },
      "source": [
        "# Task 1 ( Basics )"
      ]
    },
    {
      "cell_type": "markdown",
      "metadata": {
        "id": "_G_ur45sXs47"
      },
      "source": [
        "# Question 1 :\n",
        "Define a function which can compute the sum of two numbers.\n",
        "\n",
        "Hints:\n",
        "Define a function with two numbers as arguments. You can compute the sum in the function and return the value."
      ]
    },
    {
      "cell_type": "code",
      "execution_count": null,
      "metadata": {
        "id": "NnbpL_JbXs48"
      },
      "outputs": [],
      "source": [
        "def calc_sum(num1,num2):\n",
        "    return num1+num2"
      ]
    },
    {
      "cell_type": "code",
      "execution_count": null,
      "metadata": {
        "id": "_B_yoihXXs49",
        "outputId": "8bd2a2ae-563c-4d61-978a-68a085d2d68d"
      },
      "outputs": [
        {
          "data": {
            "text/plain": [
              "9"
            ]
          },
          "execution_count": 2,
          "metadata": {},
          "output_type": "execute_result"
        }
      ],
      "source": [
        "num1=4\n",
        "num2=5\n",
        "calc_sum(num1,num2)"
      ]
    },
    {
      "cell_type": "markdown",
      "metadata": {
        "id": "mB3yrwkfXs4-"
      },
      "source": [
        "# Question 2:\n",
        "\n",
        "    Write a method which can calculate square value of number\n",
        "\n",
        "Hints:\n",
        "    Using the ** operator\n"
      ]
    },
    {
      "cell_type": "code",
      "execution_count": null,
      "metadata": {
        "id": "Yd3V3c88Xs4_"
      },
      "outputs": [],
      "source": [
        "def calc_square(num):\n",
        "    return num**2"
      ]
    },
    {
      "cell_type": "code",
      "execution_count": null,
      "metadata": {
        "id": "ZkTFep5CXs4_",
        "outputId": "dc83d40a-b34d-4888-da97-0635e2ef1a89"
      },
      "outputs": [
        {
          "data": {
            "text/plain": [
              "25"
            ]
          },
          "execution_count": 4,
          "metadata": {},
          "output_type": "execute_result"
        }
      ],
      "source": [
        "calc_square(5)"
      ]
    },
    {
      "cell_type": "markdown",
      "metadata": {
        "id": "HM9nnazSXs5A"
      },
      "source": [
        "# Question 3\n",
        "Define a function that can convert a integer into a string and print it in console.\n",
        "\n",
        "Hints:\n",
        "\n",
        "Use str() to convert a number to string."
      ]
    },
    {
      "cell_type": "code",
      "execution_count": null,
      "metadata": {
        "id": "lX8FO0vZXs5A"
      },
      "outputs": [],
      "source": [
        "def convert_integer_to_string(num):\n",
        "    return str(num)"
      ]
    },
    {
      "cell_type": "code",
      "execution_count": null,
      "metadata": {
        "id": "eWgvMbmKXs5B",
        "outputId": "1ce6d050-14b6-44be-a3b1-2be1bf9a010d"
      },
      "outputs": [
        {
          "data": {
            "text/plain": [
              "'123'"
            ]
          },
          "execution_count": 6,
          "metadata": {},
          "output_type": "execute_result"
        }
      ],
      "source": [
        "convert_integer_to_string(123)"
      ]
    },
    {
      "cell_type": "markdown",
      "metadata": {
        "id": "5GUAz9uTXs5B"
      },
      "source": [
        "# Question 4 :\n",
        "Define a function that can receive two integral numbers in string form and compute their sum and then print it in console.\n",
        "\n",
        "Hints:\n",
        "\n",
        "Use int() to convert a string to integer."
      ]
    },
    {
      "cell_type": "code",
      "execution_count": null,
      "metadata": {
        "id": "3qjKHZAnXs5C"
      },
      "outputs": [],
      "source": [
        "def str_2_int(s):\n",
        "    num1,num2=int(s[0]),int(s[1])\n",
        "    return num1+num2"
      ]
    },
    {
      "cell_type": "code",
      "execution_count": null,
      "metadata": {
        "id": "rYvE3P4PXs5C",
        "outputId": "045fae2d-75d4-4b18-dde8-890fd3048b6e"
      },
      "outputs": [
        {
          "data": {
            "text/plain": [
              "9"
            ]
          },
          "execution_count": 8,
          "metadata": {},
          "output_type": "execute_result"
        }
      ],
      "source": [
        "str_2_int('45')"
      ]
    },
    {
      "cell_type": "markdown",
      "metadata": {
        "id": "4KHbylTKXs5C"
      },
      "source": [
        "# Question 5 :\n",
        "Define a function that can accept two strings as input and concatenate them and then print it in console.\n",
        "\n",
        "Hints:\n",
        "\n",
        "Use + to concatenate the strings\n"
      ]
    },
    {
      "cell_type": "code",
      "execution_count": null,
      "metadata": {
        "id": "n1SQlsnhXs5D"
      },
      "outputs": [],
      "source": [
        "def conc(s1,s2):\n",
        "    return s1+s2"
      ]
    },
    {
      "cell_type": "code",
      "execution_count": null,
      "metadata": {
        "id": "CC4dfY4UXs5D",
        "outputId": "9d21e4dd-fdfc-409d-bb55-2c354afc9a54"
      },
      "outputs": [
        {
          "data": {
            "text/plain": [
              "'OlaAbdallah'"
            ]
          },
          "execution_count": 10,
          "metadata": {},
          "output_type": "execute_result"
        }
      ],
      "source": [
        "conc('Ola','Abdallah')"
      ]
    },
    {
      "cell_type": "markdown",
      "metadata": {
        "id": "DBF_UROKXs5E"
      },
      "source": [
        "# Question 6 :\n",
        "Define a function that can accept two strings as input and print the string with maximum length in console. If two strings have the same length, then the function should print al l strings line by line.\n",
        "\n",
        "Hints:\n",
        "\n",
        "Use len() function to get the length of a string"
      ]
    },
    {
      "cell_type": "code",
      "execution_count": null,
      "metadata": {
        "id": "eDSWkf3GXs5E"
      },
      "outputs": [],
      "source": [
        "def find_maximum_length(s1,s2):\n",
        "    if len(s1)>len(s2):\n",
        "        print(s1)\n",
        "    elif len(s2)>len(s1):\n",
        "        print(s2)\n",
        "    else:\n",
        "        print(s1)\n",
        "        print(s2)"
      ]
    },
    {
      "cell_type": "code",
      "execution_count": null,
      "metadata": {
        "id": "a0yUiEvvXs5F",
        "outputId": "dd965c35-c58c-42c0-a252-665eec00e4ce"
      },
      "outputs": [
        {
          "name": "stdout",
          "output_type": "stream",
          "text": [
            "Abdallah\n"
          ]
        }
      ],
      "source": [
        "find_maximum_length('Ola','Abdallah')"
      ]
    },
    {
      "cell_type": "markdown",
      "metadata": {
        "id": "_KKzXf0BXs5F"
      },
      "source": [
        "# Question 7 :\n",
        "Define a function that can accept an integer number as input and print the \"It is an even number\" if the number is even, otherwise print \"It is an odd number\".\n",
        "\n",
        "Hints:\n",
        "\n",
        "Use % operator to check if a number is even or odd."
      ]
    },
    {
      "cell_type": "code",
      "execution_count": null,
      "metadata": {
        "id": "WA3DObpUXs5G"
      },
      "outputs": [],
      "source": [
        "def check():\n",
        "    num=int(input())\n",
        "    if num%2:\n",
        "        print(\"It is an odd number\")\n",
        "    else :\n",
        "        print(\"It is an even number\")"
      ]
    },
    {
      "cell_type": "code",
      "execution_count": null,
      "metadata": {
        "id": "f5yM9RdLXs5G",
        "outputId": "eed32edc-63bd-4afc-90a0-74cdda65671e"
      },
      "outputs": [
        {
          "name": "stdout",
          "output_type": "stream",
          "text": [
            "7\n",
            "It is an odd number\n"
          ]
        }
      ],
      "source": [
        "check()"
      ]
    },
    {
      "cell_type": "markdown",
      "metadata": {
        "id": "Rpxe3Qe_Xs5H"
      },
      "source": [
        "# Question 8 :\n",
        "Write a program which accepts a string as input to print \"Yes\" if the string is \"yes\" or \"YES\" or \"Yes\", otherwise print \"No\". \n",
        "\n",
        "Hints:\n",
        "\n",
        "Use if statement to judge condition."
      ]
    },
    {
      "cell_type": "code",
      "execution_count": null,
      "metadata": {
        "id": "nhODYdSGXs5H"
      },
      "outputs": [],
      "source": [
        "def check():\n",
        "    s=input()\n",
        "    if s.lower()=='yes':\n",
        "        print('Yes')\n",
        "    else:\n",
        "        print('No')"
      ]
    },
    {
      "cell_type": "code",
      "execution_count": null,
      "metadata": {
        "id": "Os7eTEqDXs5H",
        "outputId": "220d2766-53f7-4929-eed5-c85b78cfb9a9"
      },
      "outputs": [
        {
          "name": "stdout",
          "output_type": "stream",
          "text": [
            "YES\n",
            "Yes\n"
          ]
        }
      ],
      "source": [
        "check()"
      ]
    },
    {
      "cell_type": "markdown",
      "metadata": {
        "id": "qAG-CE0oXs5I"
      },
      "source": [
        "# Question 9 :\n",
        "Write a program which will find all such numbers which are divisible by 7 but are not a multiple of 5,\n",
        "between 2000 and 3200 (both included).\n",
        "The numbers obtained should be printed in a comma-separated sequence on a single line.\n",
        "\n",
        "Hints: \n",
        "Consider use range(#begin, #end) method"
      ]
    },
    {
      "cell_type": "code",
      "execution_count": null,
      "metadata": {
        "id": "KdYUi1v0Xs5I",
        "outputId": "835e4997-7731-4dfe-cb2e-4770bf87a460"
      },
      "outputs": [
        {
          "name": "stdout",
          "output_type": "stream",
          "text": [
            "[2002, 2009, 2016, 2023, 2037, 2044, 2051, 2058, 2072, 2079, 2086, 2093, 2107, 2114, 2121, 2128, 2142, 2149, 2156, 2163, 2177, 2184, 2191, 2198, 2212, 2219, 2226, 2233, 2247, 2254, 2261, 2268, 2282, 2289, 2296, 2303, 2317, 2324, 2331, 2338, 2352, 2359, 2366, 2373, 2387, 2394, 2401, 2408, 2422, 2429, 2436, 2443, 2457, 2464, 2471, 2478, 2492, 2499, 2506, 2513, 2527, 2534, 2541, 2548, 2562, 2569, 2576, 2583, 2597, 2604, 2611, 2618, 2632, 2639, 2646, 2653, 2667, 2674, 2681, 2688, 2702, 2709, 2716, 2723, 2737, 2744, 2751, 2758, 2772, 2779, 2786, 2793, 2807, 2814, 2821, 2828, 2842, 2849, 2856, 2863, 2877, 2884, 2891, 2898, 2912, 2919, 2926, 2933, 2947, 2954, 2961, 2968, 2982, 2989, 2996, 3003, 3017, 3024, 3031, 3038, 3052, 3059, 3066, 3073, 3087, 3094, 3101, 3108, 3122, 3129, 3136, 3143, 3157, 3164, 3171, 3178, 3192, 3199]\n"
          ]
        }
      ],
      "source": [
        "lst=[]\n",
        "for i in range(2000,3201):\n",
        "    if (i%7==0) and (i%5):\n",
        "        lst.append(i)\n",
        "print(lst)"
      ]
    },
    {
      "cell_type": "markdown",
      "metadata": {
        "id": "BMduV80HXs5J"
      },
      "source": [
        "# Question 10 :\n",
        "Write a program which can compute the factorial of a given numbers.\n",
        "The results should be printed in a comma-separated sequence on a single line.\n",
        "Suppose the following input is supplied to the program:\n",
        "8\n",
        "Then, the output should be:\n",
        "40320\n",
        "\n",
        "Hints:\n",
        "In case of input data being supplied to the question, it should be assumed to be a console input."
      ]
    },
    {
      "cell_type": "code",
      "execution_count": null,
      "metadata": {
        "id": "C_qaGUSSXs5J"
      },
      "outputs": [],
      "source": [
        "#Search about it please"
      ]
    },
    {
      "cell_type": "code",
      "execution_count": null,
      "metadata": {
        "id": "h68FEtSoXs5K"
      },
      "outputs": [],
      "source": [
        "def calc_factorial(num):\n",
        "    if num==1:\n",
        "        return 1\n",
        "    return num*calc_factorial(num-1)"
      ]
    },
    {
      "cell_type": "code",
      "execution_count": null,
      "metadata": {
        "id": "vgflS-2uXs5K",
        "outputId": "5b593fba-c75a-4600-c06a-bfa8ddca5aeb"
      },
      "outputs": [
        {
          "data": {
            "text/plain": [
              "40320"
            ]
          },
          "execution_count": 21,
          "metadata": {},
          "output_type": "execute_result"
        }
      ],
      "source": [
        "calc_factorial(8)"
      ]
    },
    {
      "cell_type": "markdown",
      "metadata": {
        "id": "HAOXRUh9Xs5L"
      },
      "source": [
        "# Question 11 :\n",
        "Write a program that computes the value of a+aa+aaa+aaaa with a given digit as the value of a.\n",
        "Suppose the following input is supplied to the program:\n",
        "9\n",
        "Then, the output should be:\n",
        "11106\n",
        "\n",
        "Hints:\n",
        "In case of input data being supplied to the question, it should be assumed to be a console input.\n"
      ]
    },
    {
      "cell_type": "code",
      "execution_count": null,
      "metadata": {
        "id": "JehlYEC6Xs5L"
      },
      "outputs": [],
      "source": [
        "def Calc(value):\n",
        "    sum=0\n",
        "    for i in range(5):\n",
        "        sum+=int(i*value)\n",
        "    return sum"
      ]
    },
    {
      "cell_type": "code",
      "execution_count": null,
      "metadata": {
        "id": "c_RZsYMfXs5L",
        "outputId": "dbf5ae8c-c338-4fc0-adee-4f5b9b874a1f"
      },
      "outputs": [
        {
          "data": {
            "text/plain": [
              "90"
            ]
          },
          "execution_count": 25,
          "metadata": {},
          "output_type": "execute_result"
        }
      ],
      "source": [
        "Calc(9)"
      ]
    }
  ],
  "metadata": {
    "kernelspec": {
      "display_name": "Python 3 (ipykernel)",
      "language": "python",
      "name": "python3"
    },
    "language_info": {
      "codemirror_mode": {
        "name": "ipython",
        "version": 3
      },
      "file_extension": ".py",
      "mimetype": "text/x-python",
      "name": "python",
      "nbconvert_exporter": "python",
      "pygments_lexer": "ipython3",
      "version": "3.7.0"
    },
    "colab": {
      "name": "Task 1.ipynb",
      "provenance": [],
      "collapsed_sections": []
    }
  },
  "nbformat": 4,
  "nbformat_minor": 0
}